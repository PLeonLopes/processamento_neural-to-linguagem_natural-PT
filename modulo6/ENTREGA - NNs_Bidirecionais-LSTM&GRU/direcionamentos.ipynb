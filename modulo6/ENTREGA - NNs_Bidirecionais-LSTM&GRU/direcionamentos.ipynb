{
  "cells": [
    {
      "cell_type": "markdown",
      "metadata": {
        "id": "j4rcLCMXGb7p"
      },
      "source": [
        "# Motivação\n",
        "\n",
        "O objetivo deste exercício é familiarizar os alunos com a programação de redes neurais recorrentes bidirecionais, em arquiteturas LSTM e GRU em uma aplicação de análise de sentimentos. \n",
        "\n",
        "Uma tarefa comum no processamento de textos é tentar identificar a emoção por trás de um texto. Isso é chamado de análise de sentimentos, ou mineração de opinião e de emoções. Trata-se de uma tarefa de classificação de textos, que também é muito usada em aplicações de voz, como a detecção de comentários falados de um questionário proposto. No nosso caso, temos uma coleção de documentos com sentimentos registrados e rotulado em termos de sentimento pelo próprio autor do texto.\n",
        "\n",
        "<b>Nota:</b> Existem problemas muito comuns em aprendizado de máquina, tais como o problema do subajuste (underfitting) e do sobreajuste (overfitting). Estes problemas devem ser abordados no aprendizado automático em geral e, em particular, em problemas sofisticados como a análise de sentimentos. No entanto, escolhemos abordar esses assuntos apenas na segunda parte do curso (ou melhor, no segundo curso) dando preferência a nos fixarmos aos conceitos básicos nesta parte do curso. Desta forma, a utilização de corpus de validação para lidar com o problema do sobreajuste, bem como a utilização de camadas de Dropout (Descarte) para enfrentar o mesmo problema não serão abordados neste exercício. Não utilizaremos um conjunto de dados de validação pelo mesmo motivo.\n",
        "\n",
        "# Pré-processamento de dados\n",
        "\n",
        "Vamos criar um pipeline (uma linha de processamento) que automaticamente extrai os dados de uma planilha csv, gera os corpus de treinamento e teste, gera os iteradores que vão criar os batches (lotes) e codifica as palavras de acordo com algum embedding.\n",
        "\n",
        "Nós utilizaremos o corpus de avaliações da B2W, e estaremos interessados em apenas duas colunas: **review_text**, que sera referida daqui para frente como texto; e **overall_rating**, que sera referido apenas como nota.\n",
        "\n",
        "Este pipeline deve conter os seguintes passos:\n",
        "\n",
        "**filtro**: Filtrar todas as linhas cuja nota não é um valor numérico entre 0 e 5.\n",
        "\n",
        "**partilha**: Recebe o nome do arquivo csv contendo o conjunto de dados de entrada, e recebe também o nome do diretório de saída, e as proporções dos conjuntos de dados de treinamento e de teste. A partir dos dados filtrados, altera aleatoriamente a sua ordem e gera as planilhas csv de treinamento e teste. Note que essas planilhas só devem conter as colunas de texto e de nota. As proporções sugeridas são as seguintes:\n",
        "\n",
        "• Treinamento: 75%\n",
        "• Teste: 25%\n",
        "\n",
        "Se a quantidade de dados for pequena, pode-se aumentar a quantidade de dados de treinamento, com proporções como 85-20, ou 85-15.  ́E usual que o modelo seja salvo após o treinamento.\n",
        "\n",
        "**codifica**: Utilizar um codificador de palavras para vetor de dados de d-dimensional. Pode ser o word2vec retreinado, mas pode ser o pacote pré-compilado do Nilc, pode ser uma rede neural do tipo Embedding, a ser treinada com os dados de treinamento.\n",
        "\n",
        "#  Treinamento\n",
        "O treinamento se inicia verificando que o número de palavras da entrada não excede um valor máximo, que  é um hiper-parâmetro do modelo. As sentenças devem ser truncadas caso a entrada exceda este valor máximo. Supondo uma ordem aleatória das sentenças do corpus de treinamento, o conjunto de sentenças devem ser organizadas em batches (lotes) de tamanho fixo, onde o tamanho de cada lote de treinamento (batch size) também é um hiper-parâmetro. Tipicamente esses valores são potencias de 2, e são limitados pelo tamanho da memória do modelo e, no caso de estar se usando uma GPU, pela quantidade de memória da GPU. Todas as sentenças no lote devem ter o mesmo tamanho, e portanto deve-se encontrar a maior sentença e completar as sentenças menores com caracteres de padding (preenchimento) <PAD>. Podemos limitar o tamanho do vocabulário em um número fixo de palavras mais frequentes, por exemplo 20.000, transformando as demais palavras em palavras desconhecidas.\n",
        "\n",
        "O primeiro passo do treinamento consiste no **embedding das palavras** num espaço vetorial de tamanho fixo. Neste passo voce pode utilizar os valores calculados pelo programa do ep1, ou então os valores pré-calculados pelo NILC; uma terceira possibilidade é o uso de uma **camada especifica de embedding**, mas nesse exercício estamos dando preferência para o uso de algum mapeamento pré-treinado. Cada lote é submetido durante o treinamento a uma rede neural recorrente formada por elementos **LSTM ou GRU**.\n",
        "\n",
        "Vamos experimentar dois casos. No primeiro caso utilizaremos um **Encoder unidirecional** e no segundo caso utilizaremos um **Encoder bidirecional**. Em ambos os casos, a saída do Encoder deve ser conectada a uma **rede linear densa (FeedForward)** cujo número de saídas é igual `a quantidade de classes em que a entrada pode ser classificada. Ou seja, teremos quatro experimentos variando os parâmetros de rede **uni/bi-direcional, redes LSTM e GRU**.\n",
        "\n",
        "# Teste\n",
        "Fixe um número de épocas entre 5 e 50 e treine diferentes modelos para escolher o conjunto de parâmetros que maximize a performance de cada um dos nossos 4 experimentos. Por fim, agregue em uma tabela os resultados obtidos. Uma única tabela deve reunir o resultado dos testes finais dos quatro modelos e concluir qual modelo apresenta a melhor acurácia de teste. A tabela csv deve ter o seguinte formato:\n",
        "\n",
        "| Método               | Acurácia | Melhor (S/N) |\n",
        "|----------------------|----------|--------------|\n",
        "| LSTM uni-direcional  |          |              |\n",
        "| LSTM bi-direcional   |          |              |\n",
        "| GRU uni-direcional   |          |              |\n",
        "| GRU bi-direcional    |          |              |\n"
      ]
    },
    {
      "cell_type": "markdown",
      "metadata": {
        "id": "65jWSfF5GsM7"
      },
      "source": [
        "# Imports"
      ]
    },
    {
      "cell_type": "code",
      "execution_count": 12,
      "metadata": {
        "colab": {
          "base_uri": "https://localhost:8080/",
          "height": 36
        },
        "id": "YQY_69lnGHqP",
        "outputId": "1330e806-e083-4155-b09b-5e2c98305cfe"
      },
      "outputs": [
        {
          "data": {
            "application/vnd.google.colaboratory.intrinsic+json": {
              "type": "string"
            },
            "text/plain": [
              "'2.15.0'"
            ]
          },
          "execution_count": 12,
          "metadata": {},
          "output_type": "execute_result"
        }
      ],
      "source": [
        "import tensorflow as tf\n",
        "from tensorflow import keras\n",
        "from keras.layers import TextVectorization, Embedding, Bidirectional, GRU, LSTM, Dense, Dropout\n",
        "from keras.models import Sequential\n",
        "from keras.utils import to_categorical # para gerar o y como one-hot, já que é problema multiclasse\n",
        "from keras.preprocessing.sequence import pad_sequences\n",
        "import numpy as np\n",
        "import pandas as pd\n",
        "import matplotlib.pyplot as plt\n",
        "import seaborn as sns\n",
        "from sklearn.model_selection import train_test_split\n",
        "\n",
        "%matplotlib inline\n",
        "\n",
        "tf.__version__"
      ]
    },
    {
      "cell_type": "code",
      "execution_count": null,
      "metadata": {
        "colab": {
          "base_uri": "https://localhost:8080/"
        },
        "id": "AZzeqqiFNXpY",
        "outputId": "7ab5ecd1-25ef-44f0-a8ea-1e5fbaf157ee"
      },
      "outputs": [],
      "source": [
        "!mkdir data"
      ]
    },
    {
      "cell_type": "code",
      "execution_count": null,
      "metadata": {
        "colab": {
          "base_uri": "https://localhost:8080/"
        },
        "id": "ojx6ew1gNbOx",
        "outputId": "5913ab18-0f57-4cb0-dad0-290b3f156ca6"
      },
      "outputs": [],
      "source": [
        "!curl https://raw.githubusercontent.com/alan-barzilay/NLPortugues/master/Semana%2003/data/b2w-10k.csv --output 'data/b2w-10k.csv'"
      ]
    },
    {
      "cell_type": "code",
      "execution_count": 15,
      "metadata": {
        "colab": {
          "base_uri": "https://localhost:8080/",
          "height": 206
        },
        "id": "LNPRJ5OTNopb",
        "outputId": "eefbc685-77a0-4796-e153-4bfd2e78f916"
      },
      "outputs": [
        {
          "data": {
            "text/html": [
              "\n",
              "  <div id=\"df-842c0239-de2c-4e68-aba4-82347da4fd05\" class=\"colab-df-container\">\n",
              "    <div>\n",
              "<style scoped>\n",
              "    .dataframe tbody tr th:only-of-type {\n",
              "        vertical-align: middle;\n",
              "    }\n",
              "\n",
              "    .dataframe tbody tr th {\n",
              "        vertical-align: top;\n",
              "    }\n",
              "\n",
              "    .dataframe thead th {\n",
              "        text-align: right;\n",
              "    }\n",
              "</style>\n",
              "<table border=\"1\" class=\"dataframe\">\n",
              "  <thead>\n",
              "    <tr style=\"text-align: right;\">\n",
              "      <th></th>\n",
              "      <th>overall_rating</th>\n",
              "      <th>review_text</th>\n",
              "    </tr>\n",
              "  </thead>\n",
              "  <tbody>\n",
              "    <tr>\n",
              "      <th>0</th>\n",
              "      <td>4</td>\n",
              "      <td>Estou contente com a compra entrega rápida o ú...</td>\n",
              "    </tr>\n",
              "    <tr>\n",
              "      <th>1</th>\n",
              "      <td>4</td>\n",
              "      <td>Por apenas R$1994.20,eu consegui comprar esse ...</td>\n",
              "    </tr>\n",
              "    <tr>\n",
              "      <th>2</th>\n",
              "      <td>4</td>\n",
              "      <td>SUPERA EM AGILIDADE E PRATICIDADE OUTRAS PANEL...</td>\n",
              "    </tr>\n",
              "    <tr>\n",
              "      <th>3</th>\n",
              "      <td>4</td>\n",
              "      <td>MEU FILHO AMOU! PARECE DE VERDADE COM TANTOS D...</td>\n",
              "    </tr>\n",
              "    <tr>\n",
              "      <th>4</th>\n",
              "      <td>5</td>\n",
              "      <td>A entrega foi no prazo, as americanas estão de...</td>\n",
              "    </tr>\n",
              "  </tbody>\n",
              "</table>\n",
              "</div>\n",
              "    <div class=\"colab-df-buttons\">\n",
              "\n",
              "  <div class=\"colab-df-container\">\n",
              "    <button class=\"colab-df-convert\" onclick=\"convertToInteractive('df-842c0239-de2c-4e68-aba4-82347da4fd05')\"\n",
              "            title=\"Convert this dataframe to an interactive table.\"\n",
              "            style=\"display:none;\">\n",
              "\n",
              "  <svg xmlns=\"http://www.w3.org/2000/svg\" height=\"24px\" viewBox=\"0 -960 960 960\">\n",
              "    <path d=\"M120-120v-720h720v720H120Zm60-500h600v-160H180v160Zm220 220h160v-160H400v160Zm0 220h160v-160H400v160ZM180-400h160v-160H180v160Zm440 0h160v-160H620v160ZM180-180h160v-160H180v160Zm440 0h160v-160H620v160Z\"/>\n",
              "  </svg>\n",
              "    </button>\n",
              "\n",
              "  <style>\n",
              "    .colab-df-container {\n",
              "      display:flex;\n",
              "      gap: 12px;\n",
              "    }\n",
              "\n",
              "    .colab-df-convert {\n",
              "      background-color: #E8F0FE;\n",
              "      border: none;\n",
              "      border-radius: 50%;\n",
              "      cursor: pointer;\n",
              "      display: none;\n",
              "      fill: #1967D2;\n",
              "      height: 32px;\n",
              "      padding: 0 0 0 0;\n",
              "      width: 32px;\n",
              "    }\n",
              "\n",
              "    .colab-df-convert:hover {\n",
              "      background-color: #E2EBFA;\n",
              "      box-shadow: 0px 1px 2px rgba(60, 64, 67, 0.3), 0px 1px 3px 1px rgba(60, 64, 67, 0.15);\n",
              "      fill: #174EA6;\n",
              "    }\n",
              "\n",
              "    .colab-df-buttons div {\n",
              "      margin-bottom: 4px;\n",
              "    }\n",
              "\n",
              "    [theme=dark] .colab-df-convert {\n",
              "      background-color: #3B4455;\n",
              "      fill: #D2E3FC;\n",
              "    }\n",
              "\n",
              "    [theme=dark] .colab-df-convert:hover {\n",
              "      background-color: #434B5C;\n",
              "      box-shadow: 0px 1px 3px 1px rgba(0, 0, 0, 0.15);\n",
              "      filter: drop-shadow(0px 1px 2px rgba(0, 0, 0, 0.3));\n",
              "      fill: #FFFFFF;\n",
              "    }\n",
              "  </style>\n",
              "\n",
              "    <script>\n",
              "      const buttonEl =\n",
              "        document.querySelector('#df-842c0239-de2c-4e68-aba4-82347da4fd05 button.colab-df-convert');\n",
              "      buttonEl.style.display =\n",
              "        google.colab.kernel.accessAllowed ? 'block' : 'none';\n",
              "\n",
              "      async function convertToInteractive(key) {\n",
              "        const element = document.querySelector('#df-842c0239-de2c-4e68-aba4-82347da4fd05');\n",
              "        const dataTable =\n",
              "          await google.colab.kernel.invokeFunction('convertToInteractive',\n",
              "                                                    [key], {});\n",
              "        if (!dataTable) return;\n",
              "\n",
              "        const docLinkHtml = 'Like what you see? Visit the ' +\n",
              "          '<a target=\"_blank\" href=https://colab.research.google.com/notebooks/data_table.ipynb>data table notebook</a>'\n",
              "          + ' to learn more about interactive tables.';\n",
              "        element.innerHTML = '';\n",
              "        dataTable['output_type'] = 'display_data';\n",
              "        await google.colab.output.renderOutput(dataTable, element);\n",
              "        const docLink = document.createElement('div');\n",
              "        docLink.innerHTML = docLinkHtml;\n",
              "        element.appendChild(docLink);\n",
              "      }\n",
              "    </script>\n",
              "  </div>\n",
              "\n",
              "\n",
              "<div id=\"df-1930c941-a369-46ce-b666-dbf8d3f9cac4\">\n",
              "  <button class=\"colab-df-quickchart\" onclick=\"quickchart('df-1930c941-a369-46ce-b666-dbf8d3f9cac4')\"\n",
              "            title=\"Suggest charts\"\n",
              "            style=\"display:none;\">\n",
              "\n",
              "<svg xmlns=\"http://www.w3.org/2000/svg\" height=\"24px\"viewBox=\"0 0 24 24\"\n",
              "     width=\"24px\">\n",
              "    <g>\n",
              "        <path d=\"M19 3H5c-1.1 0-2 .9-2 2v14c0 1.1.9 2 2 2h14c1.1 0 2-.9 2-2V5c0-1.1-.9-2-2-2zM9 17H7v-7h2v7zm4 0h-2V7h2v10zm4 0h-2v-4h2v4z\"/>\n",
              "    </g>\n",
              "</svg>\n",
              "  </button>\n",
              "\n",
              "<style>\n",
              "  .colab-df-quickchart {\n",
              "      --bg-color: #E8F0FE;\n",
              "      --fill-color: #1967D2;\n",
              "      --hover-bg-color: #E2EBFA;\n",
              "      --hover-fill-color: #174EA6;\n",
              "      --disabled-fill-color: #AAA;\n",
              "      --disabled-bg-color: #DDD;\n",
              "  }\n",
              "\n",
              "  [theme=dark] .colab-df-quickchart {\n",
              "      --bg-color: #3B4455;\n",
              "      --fill-color: #D2E3FC;\n",
              "      --hover-bg-color: #434B5C;\n",
              "      --hover-fill-color: #FFFFFF;\n",
              "      --disabled-bg-color: #3B4455;\n",
              "      --disabled-fill-color: #666;\n",
              "  }\n",
              "\n",
              "  .colab-df-quickchart {\n",
              "    background-color: var(--bg-color);\n",
              "    border: none;\n",
              "    border-radius: 50%;\n",
              "    cursor: pointer;\n",
              "    display: none;\n",
              "    fill: var(--fill-color);\n",
              "    height: 32px;\n",
              "    padding: 0;\n",
              "    width: 32px;\n",
              "  }\n",
              "\n",
              "  .colab-df-quickchart:hover {\n",
              "    background-color: var(--hover-bg-color);\n",
              "    box-shadow: 0 1px 2px rgba(60, 64, 67, 0.3), 0 1px 3px 1px rgba(60, 64, 67, 0.15);\n",
              "    fill: var(--button-hover-fill-color);\n",
              "  }\n",
              "\n",
              "  .colab-df-quickchart-complete:disabled,\n",
              "  .colab-df-quickchart-complete:disabled:hover {\n",
              "    background-color: var(--disabled-bg-color);\n",
              "    fill: var(--disabled-fill-color);\n",
              "    box-shadow: none;\n",
              "  }\n",
              "\n",
              "  .colab-df-spinner {\n",
              "    border: 2px solid var(--fill-color);\n",
              "    border-color: transparent;\n",
              "    border-bottom-color: var(--fill-color);\n",
              "    animation:\n",
              "      spin 1s steps(1) infinite;\n",
              "  }\n",
              "\n",
              "  @keyframes spin {\n",
              "    0% {\n",
              "      border-color: transparent;\n",
              "      border-bottom-color: var(--fill-color);\n",
              "      border-left-color: var(--fill-color);\n",
              "    }\n",
              "    20% {\n",
              "      border-color: transparent;\n",
              "      border-left-color: var(--fill-color);\n",
              "      border-top-color: var(--fill-color);\n",
              "    }\n",
              "    30% {\n",
              "      border-color: transparent;\n",
              "      border-left-color: var(--fill-color);\n",
              "      border-top-color: var(--fill-color);\n",
              "      border-right-color: var(--fill-color);\n",
              "    }\n",
              "    40% {\n",
              "      border-color: transparent;\n",
              "      border-right-color: var(--fill-color);\n",
              "      border-top-color: var(--fill-color);\n",
              "    }\n",
              "    60% {\n",
              "      border-color: transparent;\n",
              "      border-right-color: var(--fill-color);\n",
              "    }\n",
              "    80% {\n",
              "      border-color: transparent;\n",
              "      border-right-color: var(--fill-color);\n",
              "      border-bottom-color: var(--fill-color);\n",
              "    }\n",
              "    90% {\n",
              "      border-color: transparent;\n",
              "      border-bottom-color: var(--fill-color);\n",
              "    }\n",
              "  }\n",
              "</style>\n",
              "\n",
              "  <script>\n",
              "    async function quickchart(key) {\n",
              "      const quickchartButtonEl =\n",
              "        document.querySelector('#' + key + ' button');\n",
              "      quickchartButtonEl.disabled = true;  // To prevent multiple clicks.\n",
              "      quickchartButtonEl.classList.add('colab-df-spinner');\n",
              "      try {\n",
              "        const charts = await google.colab.kernel.invokeFunction(\n",
              "            'suggestCharts', [key], {});\n",
              "      } catch (error) {\n",
              "        console.error('Error during call to suggestCharts:', error);\n",
              "      }\n",
              "      quickchartButtonEl.classList.remove('colab-df-spinner');\n",
              "      quickchartButtonEl.classList.add('colab-df-quickchart-complete');\n",
              "    }\n",
              "    (() => {\n",
              "      let quickchartButtonEl =\n",
              "        document.querySelector('#df-1930c941-a369-46ce-b666-dbf8d3f9cac4 button');\n",
              "      quickchartButtonEl.style.display =\n",
              "        google.colab.kernel.accessAllowed ? 'block' : 'none';\n",
              "    })();\n",
              "  </script>\n",
              "</div>\n",
              "\n",
              "    </div>\n",
              "  </div>\n"
            ],
            "text/plain": [
              "   overall_rating                                        review_text\n",
              "0               4  Estou contente com a compra entrega rápida o ú...\n",
              "1               4  Por apenas R$1994.20,eu consegui comprar esse ...\n",
              "2               4  SUPERA EM AGILIDADE E PRATICIDADE OUTRAS PANEL...\n",
              "3               4  MEU FILHO AMOU! PARECE DE VERDADE COM TANTOS D...\n",
              "4               5  A entrega foi no prazo, as americanas estão de..."
            ]
          },
          "execution_count": 15,
          "metadata": {},
          "output_type": "execute_result"
        }
      ],
      "source": [
        "usecols = [\"review_text\", \"overall_rating\"]\n",
        "b2wCorpus = pd.read_csv(\"data/b2w-10k.csv\", usecols=usecols)\n",
        "b2wCorpus.head()"
      ]
    },
    {
      "cell_type": "markdown",
      "metadata": {
        "id": "gfB7Z95MN9ab"
      },
      "source": [
        "# Preprocessing"
      ]
    },
    {
      "cell_type": "code",
      "execution_count": 16,
      "metadata": {
        "colab": {
          "base_uri": "https://localhost:8080/"
        },
        "id": "iLHvXIMgNorq",
        "outputId": "cbd0615b-6c73-40e9-8636-0288fb243b57"
      },
      "outputs": [
        {
          "data": {
            "text/plain": [
              "array([4, 5, 1, 2, 3])"
            ]
          },
          "execution_count": 16,
          "metadata": {},
          "output_type": "execute_result"
        }
      ],
      "source": [
        "# check overall_rating\n",
        "\n",
        "b2wCorpus[\"overall_rating\"].unique()\n",
        "\n",
        "# não tem nenhuma linha cuja nota não é um valor numérico entre 0 e 5"
      ]
    },
    {
      "cell_type": "code",
      "execution_count": 17,
      "metadata": {
        "id": "zs4y11QxOYnp"
      },
      "outputs": [],
      "source": [
        "# train, test split\n",
        "\n",
        "random_state = 42\n",
        "test_size = 0.25\n",
        "\n",
        "x_values = b2wCorpus[\"review_text\"]\n",
        "y_values = b2wCorpus[\"overall_rating\"]\n",
        "\n",
        "x_train, x_test, y_train, y_test = train_test_split(x_values, y_values, random_state=random_state, test_size=test_size)"
      ]
    },
    {
      "cell_type": "code",
      "execution_count": null,
      "metadata": {
        "colab": {
          "base_uri": "https://localhost:8080/"
        },
        "id": "dUghSyHrNouI",
        "outputId": "68147aec-a288-4d5f-802f-eb81dc2652e8"
      },
      "outputs": [],
      "source": [
        "# embedding\n",
        "\n",
        "import tensorflow as tf\n",
        "\n",
        "# Exibe as GPUs disponíveis (deve exibir pelo menos uma GPU)\n",
        "physical_devices = tf.config.list_physical_devices('GPU')\n",
        "print(\"GPUs disponíveis:\", physical_devices)\n",
        "\n",
        "# Configuração para alocar memória de forma dinâmica\n",
        "gpus = tf.config.experimental.list_physical_devices('GPU')\n",
        "if gpus:\n",
        "    for gpu in gpus:\n",
        "        tf.config.experimental.set_memory_growth(gpu, True)\n",
        "\n",
        "# Cria a camada TextVectorization\n",
        "output_sequence_length = 10000\n",
        "vectorizer = TextVectorization()\n",
        "vectorizer.adapt(x_train) # Adaptar o vetorizador aos dados de treinamento\n",
        "vocab = vectorizer.get_vocabulary() # Verificar o vocabulário criado pelo vetorizador\n",
        "vectorized_train_data = vectorizer(x_train).numpy() # Vetorizar os dados de treinamento\n",
        "vectorized_train_data"
      ]
    },
    {
      "cell_type": "code",
      "execution_count": 44,
      "metadata": {
        "id": "9Vq76uWNRJTl"
      },
      "outputs": [],
      "source": [
        "print(\"Vocabulário:\", vocab)"
      ]
    },
    {
      "cell_type": "code",
      "execution_count": 20,
      "metadata": {
        "colab": {
          "base_uri": "https://localhost:8080/"
        },
        "id": "EKAqTaXBNowu",
        "outputId": "c91f19c2-94fe-4c69-f58d-32e4e57b53f0"
      },
      "outputs": [
        {
          "data": {
            "text/plain": [
              "354"
            ]
          },
          "execution_count": 20,
          "metadata": {},
          "output_type": "execute_result"
        }
      ],
      "source": [
        "print(f\"{len(vectorized_train_data[0])}\")"
      ]
    },
    {
      "cell_type": "code",
      "execution_count": 21,
      "metadata": {
        "id": "WG0l8y_Qddtt"
      },
      "outputs": [],
      "source": [
        "# Codificar rótulos de teste no formato one-hot\n",
        "# Subtraindo 1 dos rótulos para ajustar a indexação\n",
        "# A função to_categorical espera que os rótulos sejam inteiros começando de 0 até num_classes - 1.\n",
        "num_classes = b2wCorpus[\"overall_rating\"].nunique()\n",
        "y_train_encoded = to_categorical(y_train - 1, num_classes=num_classes)\n",
        "y_test_encoded = to_categorical(y_test - 1, num_classes=num_classes)\n",
        "\n",
        "# Ajustar ou truncar as sequências nos dados de treinamento e teste para validação\n",
        "vectorized_train_data = vectorizer(x_train).numpy()\n",
        "vectorized_test_data = vectorizer(x_test).numpy()\n",
        "\n",
        "input_len = len(vectorized_train_data[0])\n",
        "vectorized_train_data_padded = pad_sequences(vectorized_train_data, maxlen=input_len, padding='post')\n",
        "vectorized_test_data_padded = pad_sequences(vectorized_test_data, maxlen=input_len, padding='post')"
      ]
    },
    {
      "cell_type": "markdown",
      "metadata": {
        "id": "2D_QFILlSHlS"
      },
      "source": [
        "# Models"
      ]
    },
    {
      "cell_type": "code",
      "execution_count": null,
      "metadata": {
        "colab": {
          "base_uri": "https://localhost:8080/"
        },
        "id": "Ut6ddIfHNozE",
        "outputId": "0230a999-566e-43f0-f3e3-bf4f8f109303"
      },
      "outputs": [],
      "source": [
        "%%time\n",
        "# Criar o modelo\n",
        "input_dim = len(vocab) + 2  # Adicionar 2 para <OOV> e <PAD>\n",
        "input_len = len(vectorized_train_data[0])\n",
        "embedding_dim = 50\n",
        "output_dim = 10\n",
        "num_classes = b2wCorpus[\"overall_rating\"].nunique()\n",
        "\n",
        "optimizer = 'adam'\n",
        "loss = 'categorical_crossentropy'\n",
        "epochs = 20\n",
        "metrics = ['AUC']\n",
        "epochs=30\n",
        "batch_size=50"
      ]
    },
    {
      "cell_type": "markdown",
      "metadata": {},
      "source": [
        "CPU times: user 896 µs, sys: 0 ns, total: 896 µs    <br>\n",
        "Wall time: 762 µs"
      ]
    },
    {
      "cell_type": "code",
      "execution_count": null,
      "metadata": {
        "colab": {
          "base_uri": "https://localhost:8080/"
        },
        "id": "u21v6SGZXaxs",
        "outputId": "26f3f487-5e2d-4255-d57d-6728872fa18e"
      },
      "outputs": [],
      "source": [
        "%%time\n",
        "lstm_uni_model = Sequential()\n",
        "lstm_uni_model.add(Embedding(input_dim=input_dim, output_dim=output_dim, input_length=input_len))\n",
        "\n",
        "lstm_uni_model.add(LSTM(64, return_sequences=True))  # Use return_sequences=True para conectar camadas LSTM em sequência\n",
        "lstm_uni_model.add(Dropout(0.5))\n",
        "lstm_uni_model.add(LSTM(64, return_sequences=True))\n",
        "lstm_uni_model.add(Dropout(0.5))\n",
        "lstm_uni_model.add(LSTM(64))\n",
        "lstm_uni_model.add(Dropout(0.5))\n",
        "\n",
        "lstm_uni_model.add(Dense(64, activation='relu', input_dim=input_dim))\n",
        "lstm_uni_model.add(Dense(num_classes, activation='softmax'))  # Camada de saída com softmax para problemas multiclasse\n",
        "lstm_uni_model.compile(optimizer=optimizer, loss=loss, metrics=metrics) # Compilar o modelo\n",
        "lstm_uni_model.fit(vectorized_train_data_padded, y_train_encoded, epochs=epochs, batch_size=batch_size) # treina"
      ]
    },
    {
      "cell_type": "markdown",
      "metadata": {},
      "source": [
        "CPU times: user 3min 38s, sys: 6.4 s, total: 3min 44s <br>\n",
        "Wall time: 4min 28s"
      ]
    },
    {
      "cell_type": "code",
      "execution_count": null,
      "metadata": {
        "colab": {
          "base_uri": "https://localhost:8080/"
        },
        "id": "BRAPTtICNo1O",
        "outputId": "1a8e2020-d56b-454e-8e37-b22c99fd9cae"
      },
      "outputs": [],
      "source": [
        "%%time\n",
        "\n",
        "gru_uni_model = Sequential()\n",
        "gru_uni_model.add(Embedding(input_dim=input_dim, output_dim=output_dim, input_length=input_len))\n",
        "\n",
        "gru_uni_model.add(GRU(64, return_sequences=True))\n",
        "gru_uni_model.add(Dropout(0.5))\n",
        "gru_uni_model.add(GRU(64, return_sequences=True))\n",
        "gru_uni_model.add(Dropout(0.5))\n",
        "gru_uni_model.add(GRU(64))\n",
        "gru_uni_model.add(Dropout(0.5))\n",
        "\n",
        "gru_uni_model.add(Dense(64, activation='relu'))\n",
        "gru_uni_model.add(Dense(num_classes, activation='softmax')) # camada de saída\n",
        "gru_uni_model.compile(optimizer=optimizer, loss=loss, metrics=metrics)\n",
        "gru_uni_model.fit(vectorized_train_data_padded, y_train_encoded, epochs=epochs, batch_size=batch_size)"
      ]
    },
    {
      "cell_type": "markdown",
      "metadata": {},
      "source": [
        "CPU times: user 3min 38s, sys: 5.6 s, total: 3min 44s <br>\n",
        "Wall time: 3min 35s"
      ]
    },
    {
      "cell_type": "code",
      "execution_count": null,
      "metadata": {
        "colab": {
          "base_uri": "https://localhost:8080/"
        },
        "id": "YL8dgSimXlwv",
        "outputId": "afb32b2a-08ab-4638-e662-734b752b8317"
      },
      "outputs": [],
      "source": [
        "%%time\n",
        "\n",
        "lstm_bi_model = Sequential()\n",
        "lstm_bi_model.add(Embedding(input_dim=input_dim, output_dim=output_dim, input_length=input_len))\n",
        "\n",
        "lstm_bi_model.add(Bidirectional(LSTM(64, return_sequences=True)))\n",
        "lstm_bi_model.add(Dropout(0.5))\n",
        "lstm_bi_model.add(Bidirectional(LSTM(64, return_sequences=True)))\n",
        "lstm_bi_model.add(Dropout(0.5))\n",
        "lstm_bi_model.add(Bidirectional(LSTM(64)))\n",
        "lstm_bi_model.add(Dropout(0.5))\n",
        "\n",
        "lstm_bi_model.add(Dense(64, activation='relu'))\n",
        "lstm_bi_model.add(Dense(num_classes, activation='softmax')) # camada de saída\n",
        "lstm_bi_model.compile(optimizer=optimizer, loss=loss, metrics=metrics)\n",
        "lstm_bi_model.fit(vectorized_train_data_padded, y_train_encoded, epochs=5, batch_size=batch_size)"
      ]
    },
    {
      "cell_type": "markdown",
      "metadata": {},
      "source": [
        "CPU times: user 1min 34s, sys: 2.57 s, total: 1min 36s  <br>\n",
        "Wall time: 1min 31s"
      ]
    },
    {
      "cell_type": "code",
      "execution_count": null,
      "metadata": {
        "colab": {
          "base_uri": "https://localhost:8080/"
        },
        "id": "3YGyC8HeNo3e",
        "outputId": "295ed370-25e7-4f81-e389-cd47182c77e9"
      },
      "outputs": [],
      "source": [
        "%%time\n",
        "\n",
        "gru_bi_model = Sequential()\n",
        "gru_bi_model.add(Embedding(input_dim=input_dim, output_dim=output_dim, input_length=input_len))\n",
        "\n",
        "gru_bi_model.add(Bidirectional(GRU(64, return_sequences=True)))\n",
        "gru_bi_model.add(Dropout(0.5))\n",
        "gru_bi_model.add(Bidirectional(GRU(64, return_sequences=True)))\n",
        "gru_bi_model.add(Dropout(0.5))\n",
        "gru_bi_model.add(Bidirectional(GRU(64)))\n",
        "gru_bi_model.add(Dropout(0.5))\n",
        "\n",
        "gru_bi_model.add(Dense(64, activation='relu')) # camada dense\n",
        "gru_bi_model.add(Dense(num_classes, activation='softmax')) # camada de saída\n",
        "\n",
        "gru_bi_model.compile(optimizer=optimizer, loss=loss, metrics=metrics)\n",
        "gru_bi_model.fit(vectorized_train_data_padded, y_train_encoded, epochs=5, batch_size=batch_size)"
      ]
    },
    {
      "cell_type": "markdown",
      "metadata": {},
      "source": [
        "CPU times: user 1min 32s, sys: 2.39 s, total: 1min 35s  <br>\n",
        "Wall time: 1min 31s"
      ]
    },
    {
      "cell_type": "markdown",
      "metadata": {
        "id": "MNwKqX8fqcjm"
      },
      "source": [
        "# Summaries"
      ]
    },
    {
      "cell_type": "code",
      "execution_count": 27,
      "metadata": {
        "colab": {
          "base_uri": "https://localhost:8080/"
        },
        "id": "6N6SNrkDqeVW",
        "outputId": "d873513e-5a4e-4be7-d799-5fcd3db1cfc7"
      },
      "outputs": [
        {
          "name": "stdout",
          "output_type": "stream",
          "text": [
            "Model: \"sequential\"\n",
            "_________________________________________________________________\n",
            " Layer (type)                Output Shape              Param #   \n",
            "=================================================================\n",
            " embedding (Embedding)       (None, 354, 10)           127580    \n",
            "                                                                 \n",
            " lstm (LSTM)                 (None, 354, 64)           19200     \n",
            "                                                                 \n",
            " dropout (Dropout)           (None, 354, 64)           0         \n",
            "                                                                 \n",
            " lstm_1 (LSTM)               (None, 354, 64)           33024     \n",
            "                                                                 \n",
            " dropout_1 (Dropout)         (None, 354, 64)           0         \n",
            "                                                                 \n",
            " lstm_2 (LSTM)               (None, 64)                33024     \n",
            "                                                                 \n",
            " dropout_2 (Dropout)         (None, 64)                0         \n",
            "                                                                 \n",
            " dense (Dense)               (None, 64)                4160      \n",
            "                                                                 \n",
            " dense_1 (Dense)             (None, 5)                 325       \n",
            "                                                                 \n",
            "=================================================================\n",
            "Total params: 217313 (848.88 KB)\n",
            "Trainable params: 217313 (848.88 KB)\n",
            "Non-trainable params: 0 (0.00 Byte)\n",
            "_________________________________________________________________\n"
          ]
        }
      ],
      "source": [
        "lstm_uni_model.summary()"
      ]
    },
    {
      "cell_type": "code",
      "execution_count": 28,
      "metadata": {
        "colab": {
          "base_uri": "https://localhost:8080/"
        },
        "id": "1zsTCx2aqgNa",
        "outputId": "b354de86-f542-4af5-8e55-fde243495aa9"
      },
      "outputs": [
        {
          "name": "stdout",
          "output_type": "stream",
          "text": [
            "Model: \"sequential_2\"\n",
            "_________________________________________________________________\n",
            " Layer (type)                Output Shape              Param #   \n",
            "=================================================================\n",
            " embedding_2 (Embedding)     (None, 354, 10)           127580    \n",
            "                                                                 \n",
            " bidirectional (Bidirection  (None, 354, 128)          38400     \n",
            " al)                                                             \n",
            "                                                                 \n",
            " dropout_6 (Dropout)         (None, 354, 128)          0         \n",
            "                                                                 \n",
            " bidirectional_1 (Bidirecti  (None, 354, 128)          98816     \n",
            " onal)                                                           \n",
            "                                                                 \n",
            " dropout_7 (Dropout)         (None, 354, 128)          0         \n",
            "                                                                 \n",
            " bidirectional_2 (Bidirecti  (None, 128)               98816     \n",
            " onal)                                                           \n",
            "                                                                 \n",
            " dropout_8 (Dropout)         (None, 128)               0         \n",
            "                                                                 \n",
            " dense_4 (Dense)             (None, 64)                8256      \n",
            "                                                                 \n",
            " dense_5 (Dense)             (None, 5)                 325       \n",
            "                                                                 \n",
            "=================================================================\n",
            "Total params: 372193 (1.42 MB)\n",
            "Trainable params: 372193 (1.42 MB)\n",
            "Non-trainable params: 0 (0.00 Byte)\n",
            "_________________________________________________________________\n"
          ]
        }
      ],
      "source": [
        "lstm_bi_model.summary()"
      ]
    },
    {
      "cell_type": "code",
      "execution_count": 29,
      "metadata": {
        "colab": {
          "base_uri": "https://localhost:8080/"
        },
        "id": "WL247BIFqhZr",
        "outputId": "4578d5b4-f018-40b8-b768-250de0bc3893"
      },
      "outputs": [
        {
          "name": "stdout",
          "output_type": "stream",
          "text": [
            "Model: \"sequential_1\"\n",
            "_________________________________________________________________\n",
            " Layer (type)                Output Shape              Param #   \n",
            "=================================================================\n",
            " embedding_1 (Embedding)     (None, 354, 10)           127580    \n",
            "                                                                 \n",
            " gru (GRU)                   (None, 354, 64)           14592     \n",
            "                                                                 \n",
            " dropout_3 (Dropout)         (None, 354, 64)           0         \n",
            "                                                                 \n",
            " gru_1 (GRU)                 (None, 354, 64)           24960     \n",
            "                                                                 \n",
            " dropout_4 (Dropout)         (None, 354, 64)           0         \n",
            "                                                                 \n",
            " gru_2 (GRU)                 (None, 64)                24960     \n",
            "                                                                 \n",
            " dropout_5 (Dropout)         (None, 64)                0         \n",
            "                                                                 \n",
            " dense_2 (Dense)             (None, 64)                4160      \n",
            "                                                                 \n",
            " dense_3 (Dense)             (None, 5)                 325       \n",
            "                                                                 \n",
            "=================================================================\n",
            "Total params: 196577 (767.88 KB)\n",
            "Trainable params: 196577 (767.88 KB)\n",
            "Non-trainable params: 0 (0.00 Byte)\n",
            "_________________________________________________________________\n"
          ]
        }
      ],
      "source": [
        "gru_uni_model.summary()"
      ]
    },
    {
      "cell_type": "code",
      "execution_count": 30,
      "metadata": {
        "colab": {
          "base_uri": "https://localhost:8080/"
        },
        "id": "BCMWNmz-qhGI",
        "outputId": "1ef2acf5-9139-490c-9f3c-baa892c64d87"
      },
      "outputs": [
        {
          "name": "stdout",
          "output_type": "stream",
          "text": [
            "Model: \"sequential_3\"\n",
            "_________________________________________________________________\n",
            " Layer (type)                Output Shape              Param #   \n",
            "=================================================================\n",
            " embedding_3 (Embedding)     (None, 354, 10)           127580    \n",
            "                                                                 \n",
            " bidirectional_3 (Bidirecti  (None, 354, 128)          29184     \n",
            " onal)                                                           \n",
            "                                                                 \n",
            " dropout_9 (Dropout)         (None, 354, 128)          0         \n",
            "                                                                 \n",
            " bidirectional_4 (Bidirecti  (None, 354, 128)          74496     \n",
            " onal)                                                           \n",
            "                                                                 \n",
            " dropout_10 (Dropout)        (None, 354, 128)          0         \n",
            "                                                                 \n",
            " bidirectional_5 (Bidirecti  (None, 128)               74496     \n",
            " onal)                                                           \n",
            "                                                                 \n",
            " dropout_11 (Dropout)        (None, 128)               0         \n",
            "                                                                 \n",
            " dense_6 (Dense)             (None, 64)                8256      \n",
            "                                                                 \n",
            " dense_7 (Dense)             (None, 5)                 325       \n",
            "                                                                 \n",
            "=================================================================\n",
            "Total params: 314337 (1.20 MB)\n",
            "Trainable params: 314337 (1.20 MB)\n",
            "Non-trainable params: 0 (0.00 Byte)\n",
            "_________________________________________________________________\n"
          ]
        }
      ],
      "source": [
        "gru_bi_model.summary()"
      ]
    },
    {
      "cell_type": "markdown",
      "metadata": {
        "id": "dk05tzIIX1tF"
      },
      "source": [
        "# Validation"
      ]
    },
    {
      "cell_type": "code",
      "execution_count": 33,
      "metadata": {
        "colab": {
          "base_uri": "https://localhost:8080/"
        },
        "id": "6xk7A0aSNo8O",
        "outputId": "305379e3-58b1-474d-d2c5-4217a3aaa39a"
      },
      "outputs": [
        {
          "name": "stdout",
          "output_type": "stream",
          "text": [
            "79/79 [==============================] - 1s 18ms/step - loss: 1.4481 - auc: 0.6972\n",
            "79/79 [==============================] - 2s 30ms/step - loss: 1.1722 - auc: 0.8391\n",
            "79/79 [==============================] - 2s 23ms/step - loss: 1.4481 - auc: 0.6972\n",
            "79/79 [==============================] - 3s 36ms/step - loss: 1.2331 - auc: 0.8401\n",
            "Perda e Acurácia do modelo LSTM unidirecional nos dados de teste: 1.4481182098388672, 0.6972000002861023\n",
            "Perda e Acurácia do modelo LSTM bidirecional nos dados de teste: 1.172155499458313, 0.8390766978263855\n",
            "Perda e Acurácia do modelo GRU unidirecional nos dados de teste: 1.4480605125427246, 0.6972000002861023\n",
            "Perda e Acurácia do modelo GRU bidirecional nos dados de teste: 1.2331181764602661, 0.8401130437850952\n"
          ]
        }
      ],
      "source": [
        "lstm_uni_model_loss, lstm_uni_model_accuracy = lstm_uni_model.evaluate(vectorized_test_data_padded, y_test_encoded)\n",
        "lstm_bi_model_loss, lstm_bi_model_accuracy = lstm_bi_model.evaluate(vectorized_test_data_padded, y_test_encoded)\n",
        "gru_uni_model_loss, gru_uni_model_accuracy = gru_uni_model.evaluate(vectorized_test_data_padded, y_test_encoded)\n",
        "gru_bi_model_loss, gru_bi_model_accuracy = gru_bi_model.evaluate(vectorized_test_data_padded, y_test_encoded)\n",
        "\n",
        "print(f\"Perda e Acurácia do modelo LSTM unidirecional nos dados de teste: {lstm_uni_model_loss}, {lstm_uni_model_accuracy}\")\n",
        "print(f\"Perda e Acurácia do modelo LSTM bidirecional nos dados de teste: {lstm_bi_model_loss}, {lstm_bi_model_accuracy}\")\n",
        "print(f\"Perda e Acurácia do modelo GRU unidirecional nos dados de teste: {gru_uni_model_loss}, {gru_uni_model_accuracy}\")\n",
        "print(f\"Perda e Acurácia do modelo GRU bidirecional nos dados de teste: {gru_bi_model_loss}, {gru_bi_model_accuracy}\")"
      ]
    },
    {
      "cell_type": "code",
      "execution_count": 42,
      "metadata": {
        "colab": {
          "base_uri": "https://localhost:8080/",
          "height": 175
        },
        "id": "Ky421_moqpaX",
        "outputId": "f3f17f69-717c-4ad3-e291-0dc009170843"
      },
      "outputs": [
        {
          "data": {
            "text/html": [
              "\n",
              "  <div id=\"df-abf8c89c-3c76-430f-862b-c2fa06c86654\" class=\"colab-df-container\">\n",
              "    <div>\n",
              "<style scoped>\n",
              "    .dataframe tbody tr th:only-of-type {\n",
              "        vertical-align: middle;\n",
              "    }\n",
              "\n",
              "    .dataframe tbody tr th {\n",
              "        vertical-align: top;\n",
              "    }\n",
              "\n",
              "    .dataframe thead th {\n",
              "        text-align: right;\n",
              "    }\n",
              "</style>\n",
              "<table border=\"1\" class=\"dataframe\">\n",
              "  <thead>\n",
              "    <tr style=\"text-align: right;\">\n",
              "      <th></th>\n",
              "      <th>Método</th>\n",
              "      <th>Acurácia</th>\n",
              "      <th>Melhor (S/N)</th>\n",
              "    </tr>\n",
              "  </thead>\n",
              "  <tbody>\n",
              "    <tr>\n",
              "      <th>3</th>\n",
              "      <td>GRU Bidirecional</td>\n",
              "      <td>0.840113</td>\n",
              "      <td>S</td>\n",
              "    </tr>\n",
              "    <tr>\n",
              "      <th>1</th>\n",
              "      <td>LSTM Bidirecional</td>\n",
              "      <td>0.839077</td>\n",
              "      <td>N</td>\n",
              "    </tr>\n",
              "    <tr>\n",
              "      <th>0</th>\n",
              "      <td>LSTM Unidirecional</td>\n",
              "      <td>0.697200</td>\n",
              "      <td>N</td>\n",
              "    </tr>\n",
              "    <tr>\n",
              "      <th>2</th>\n",
              "      <td>GRU Unidirecional</td>\n",
              "      <td>0.697200</td>\n",
              "      <td>N</td>\n",
              "    </tr>\n",
              "  </tbody>\n",
              "</table>\n",
              "</div>\n",
              "    <div class=\"colab-df-buttons\">\n",
              "\n",
              "  <div class=\"colab-df-container\">\n",
              "    <button class=\"colab-df-convert\" onclick=\"convertToInteractive('df-abf8c89c-3c76-430f-862b-c2fa06c86654')\"\n",
              "            title=\"Convert this dataframe to an interactive table.\"\n",
              "            style=\"display:none;\">\n",
              "\n",
              "  <svg xmlns=\"http://www.w3.org/2000/svg\" height=\"24px\" viewBox=\"0 -960 960 960\">\n",
              "    <path d=\"M120-120v-720h720v720H120Zm60-500h600v-160H180v160Zm220 220h160v-160H400v160Zm0 220h160v-160H400v160ZM180-400h160v-160H180v160Zm440 0h160v-160H620v160ZM180-180h160v-160H180v160Zm440 0h160v-160H620v160Z\"/>\n",
              "  </svg>\n",
              "    </button>\n",
              "\n",
              "  <style>\n",
              "    .colab-df-container {\n",
              "      display:flex;\n",
              "      gap: 12px;\n",
              "    }\n",
              "\n",
              "    .colab-df-convert {\n",
              "      background-color: #E8F0FE;\n",
              "      border: none;\n",
              "      border-radius: 50%;\n",
              "      cursor: pointer;\n",
              "      display: none;\n",
              "      fill: #1967D2;\n",
              "      height: 32px;\n",
              "      padding: 0 0 0 0;\n",
              "      width: 32px;\n",
              "    }\n",
              "\n",
              "    .colab-df-convert:hover {\n",
              "      background-color: #E2EBFA;\n",
              "      box-shadow: 0px 1px 2px rgba(60, 64, 67, 0.3), 0px 1px 3px 1px rgba(60, 64, 67, 0.15);\n",
              "      fill: #174EA6;\n",
              "    }\n",
              "\n",
              "    .colab-df-buttons div {\n",
              "      margin-bottom: 4px;\n",
              "    }\n",
              "\n",
              "    [theme=dark] .colab-df-convert {\n",
              "      background-color: #3B4455;\n",
              "      fill: #D2E3FC;\n",
              "    }\n",
              "\n",
              "    [theme=dark] .colab-df-convert:hover {\n",
              "      background-color: #434B5C;\n",
              "      box-shadow: 0px 1px 3px 1px rgba(0, 0, 0, 0.15);\n",
              "      filter: drop-shadow(0px 1px 2px rgba(0, 0, 0, 0.3));\n",
              "      fill: #FFFFFF;\n",
              "    }\n",
              "  </style>\n",
              "\n",
              "    <script>\n",
              "      const buttonEl =\n",
              "        document.querySelector('#df-abf8c89c-3c76-430f-862b-c2fa06c86654 button.colab-df-convert');\n",
              "      buttonEl.style.display =\n",
              "        google.colab.kernel.accessAllowed ? 'block' : 'none';\n",
              "\n",
              "      async function convertToInteractive(key) {\n",
              "        const element = document.querySelector('#df-abf8c89c-3c76-430f-862b-c2fa06c86654');\n",
              "        const dataTable =\n",
              "          await google.colab.kernel.invokeFunction('convertToInteractive',\n",
              "                                                    [key], {});\n",
              "        if (!dataTable) return;\n",
              "\n",
              "        const docLinkHtml = 'Like what you see? Visit the ' +\n",
              "          '<a target=\"_blank\" href=https://colab.research.google.com/notebooks/data_table.ipynb>data table notebook</a>'\n",
              "          + ' to learn more about interactive tables.';\n",
              "        element.innerHTML = '';\n",
              "        dataTable['output_type'] = 'display_data';\n",
              "        await google.colab.output.renderOutput(dataTable, element);\n",
              "        const docLink = document.createElement('div');\n",
              "        docLink.innerHTML = docLinkHtml;\n",
              "        element.appendChild(docLink);\n",
              "      }\n",
              "    </script>\n",
              "  </div>\n",
              "\n",
              "\n",
              "<div id=\"df-ebb20fd1-510e-4ae8-9e15-3963f3c33fa5\">\n",
              "  <button class=\"colab-df-quickchart\" onclick=\"quickchart('df-ebb20fd1-510e-4ae8-9e15-3963f3c33fa5')\"\n",
              "            title=\"Suggest charts\"\n",
              "            style=\"display:none;\">\n",
              "\n",
              "<svg xmlns=\"http://www.w3.org/2000/svg\" height=\"24px\"viewBox=\"0 0 24 24\"\n",
              "     width=\"24px\">\n",
              "    <g>\n",
              "        <path d=\"M19 3H5c-1.1 0-2 .9-2 2v14c0 1.1.9 2 2 2h14c1.1 0 2-.9 2-2V5c0-1.1-.9-2-2-2zM9 17H7v-7h2v7zm4 0h-2V7h2v10zm4 0h-2v-4h2v4z\"/>\n",
              "    </g>\n",
              "</svg>\n",
              "  </button>\n",
              "\n",
              "<style>\n",
              "  .colab-df-quickchart {\n",
              "      --bg-color: #E8F0FE;\n",
              "      --fill-color: #1967D2;\n",
              "      --hover-bg-color: #E2EBFA;\n",
              "      --hover-fill-color: #174EA6;\n",
              "      --disabled-fill-color: #AAA;\n",
              "      --disabled-bg-color: #DDD;\n",
              "  }\n",
              "\n",
              "  [theme=dark] .colab-df-quickchart {\n",
              "      --bg-color: #3B4455;\n",
              "      --fill-color: #D2E3FC;\n",
              "      --hover-bg-color: #434B5C;\n",
              "      --hover-fill-color: #FFFFFF;\n",
              "      --disabled-bg-color: #3B4455;\n",
              "      --disabled-fill-color: #666;\n",
              "  }\n",
              "\n",
              "  .colab-df-quickchart {\n",
              "    background-color: var(--bg-color);\n",
              "    border: none;\n",
              "    border-radius: 50%;\n",
              "    cursor: pointer;\n",
              "    display: none;\n",
              "    fill: var(--fill-color);\n",
              "    height: 32px;\n",
              "    padding: 0;\n",
              "    width: 32px;\n",
              "  }\n",
              "\n",
              "  .colab-df-quickchart:hover {\n",
              "    background-color: var(--hover-bg-color);\n",
              "    box-shadow: 0 1px 2px rgba(60, 64, 67, 0.3), 0 1px 3px 1px rgba(60, 64, 67, 0.15);\n",
              "    fill: var(--button-hover-fill-color);\n",
              "  }\n",
              "\n",
              "  .colab-df-quickchart-complete:disabled,\n",
              "  .colab-df-quickchart-complete:disabled:hover {\n",
              "    background-color: var(--disabled-bg-color);\n",
              "    fill: var(--disabled-fill-color);\n",
              "    box-shadow: none;\n",
              "  }\n",
              "\n",
              "  .colab-df-spinner {\n",
              "    border: 2px solid var(--fill-color);\n",
              "    border-color: transparent;\n",
              "    border-bottom-color: var(--fill-color);\n",
              "    animation:\n",
              "      spin 1s steps(1) infinite;\n",
              "  }\n",
              "\n",
              "  @keyframes spin {\n",
              "    0% {\n",
              "      border-color: transparent;\n",
              "      border-bottom-color: var(--fill-color);\n",
              "      border-left-color: var(--fill-color);\n",
              "    }\n",
              "    20% {\n",
              "      border-color: transparent;\n",
              "      border-left-color: var(--fill-color);\n",
              "      border-top-color: var(--fill-color);\n",
              "    }\n",
              "    30% {\n",
              "      border-color: transparent;\n",
              "      border-left-color: var(--fill-color);\n",
              "      border-top-color: var(--fill-color);\n",
              "      border-right-color: var(--fill-color);\n",
              "    }\n",
              "    40% {\n",
              "      border-color: transparent;\n",
              "      border-right-color: var(--fill-color);\n",
              "      border-top-color: var(--fill-color);\n",
              "    }\n",
              "    60% {\n",
              "      border-color: transparent;\n",
              "      border-right-color: var(--fill-color);\n",
              "    }\n",
              "    80% {\n",
              "      border-color: transparent;\n",
              "      border-right-color: var(--fill-color);\n",
              "      border-bottom-color: var(--fill-color);\n",
              "    }\n",
              "    90% {\n",
              "      border-color: transparent;\n",
              "      border-bottom-color: var(--fill-color);\n",
              "    }\n",
              "  }\n",
              "</style>\n",
              "\n",
              "  <script>\n",
              "    async function quickchart(key) {\n",
              "      const quickchartButtonEl =\n",
              "        document.querySelector('#' + key + ' button');\n",
              "      quickchartButtonEl.disabled = true;  // To prevent multiple clicks.\n",
              "      quickchartButtonEl.classList.add('colab-df-spinner');\n",
              "      try {\n",
              "        const charts = await google.colab.kernel.invokeFunction(\n",
              "            'suggestCharts', [key], {});\n",
              "      } catch (error) {\n",
              "        console.error('Error during call to suggestCharts:', error);\n",
              "      }\n",
              "      quickchartButtonEl.classList.remove('colab-df-spinner');\n",
              "      quickchartButtonEl.classList.add('colab-df-quickchart-complete');\n",
              "    }\n",
              "    (() => {\n",
              "      let quickchartButtonEl =\n",
              "        document.querySelector('#df-ebb20fd1-510e-4ae8-9e15-3963f3c33fa5 button');\n",
              "      quickchartButtonEl.style.display =\n",
              "        google.colab.kernel.accessAllowed ? 'block' : 'none';\n",
              "    })();\n",
              "  </script>\n",
              "</div>\n",
              "\n",
              "  <div id=\"id_7f7ba3a6-1afe-4822-a20b-b5ae91f0650e\">\n",
              "    <style>\n",
              "      .colab-df-generate {\n",
              "        background-color: #E8F0FE;\n",
              "        border: none;\n",
              "        border-radius: 50%;\n",
              "        cursor: pointer;\n",
              "        display: none;\n",
              "        fill: #1967D2;\n",
              "        height: 32px;\n",
              "        padding: 0 0 0 0;\n",
              "        width: 32px;\n",
              "      }\n",
              "\n",
              "      .colab-df-generate:hover {\n",
              "        background-color: #E2EBFA;\n",
              "        box-shadow: 0px 1px 2px rgba(60, 64, 67, 0.3), 0px 1px 3px 1px rgba(60, 64, 67, 0.15);\n",
              "        fill: #174EA6;\n",
              "      }\n",
              "\n",
              "      [theme=dark] .colab-df-generate {\n",
              "        background-color: #3B4455;\n",
              "        fill: #D2E3FC;\n",
              "      }\n",
              "\n",
              "      [theme=dark] .colab-df-generate:hover {\n",
              "        background-color: #434B5C;\n",
              "        box-shadow: 0px 1px 3px 1px rgba(0, 0, 0, 0.15);\n",
              "        filter: drop-shadow(0px 1px 2px rgba(0, 0, 0, 0.3));\n",
              "        fill: #FFFFFF;\n",
              "      }\n",
              "    </style>\n",
              "    <button class=\"colab-df-generate\" onclick=\"generateWithVariable('df_results')\"\n",
              "            title=\"Generate code using this dataframe.\"\n",
              "            style=\"display:none;\">\n",
              "\n",
              "  <svg xmlns=\"http://www.w3.org/2000/svg\" height=\"24px\"viewBox=\"0 0 24 24\"\n",
              "       width=\"24px\">\n",
              "    <path d=\"M7,19H8.4L18.45,9,17,7.55,7,17.6ZM5,21V16.75L18.45,3.32a2,2,0,0,1,2.83,0l1.4,1.43a1.91,1.91,0,0,1,.58,1.4,1.91,1.91,0,0,1-.58,1.4L9.25,21ZM18.45,9,17,7.55Zm-12,3A5.31,5.31,0,0,0,4.9,8.1,5.31,5.31,0,0,0,1,6.5,5.31,5.31,0,0,0,4.9,4.9,5.31,5.31,0,0,0,6.5,1,5.31,5.31,0,0,0,8.1,4.9,5.31,5.31,0,0,0,12,6.5,5.46,5.46,0,0,0,6.5,12Z\"/>\n",
              "  </svg>\n",
              "    </button>\n",
              "    <script>\n",
              "      (() => {\n",
              "      const buttonEl =\n",
              "        document.querySelector('#id_7f7ba3a6-1afe-4822-a20b-b5ae91f0650e button.colab-df-generate');\n",
              "      buttonEl.style.display =\n",
              "        google.colab.kernel.accessAllowed ? 'block' : 'none';\n",
              "\n",
              "      buttonEl.onclick = () => {\n",
              "        google.colab.notebook.generateWithVariable('df_results');\n",
              "      }\n",
              "      })();\n",
              "    </script>\n",
              "  </div>\n",
              "\n",
              "    </div>\n",
              "  </div>\n"
            ],
            "text/plain": [
              "               Método  Acurácia Melhor (S/N)\n",
              "3    GRU Bidirecional  0.840113            S\n",
              "1   LSTM Bidirecional  0.839077            N\n",
              "0  LSTM Unidirecional  0.697200            N\n",
              "2   GRU Unidirecional  0.697200            N"
            ]
          },
          "execution_count": 42,
          "metadata": {},
          "output_type": "execute_result"
        }
      ],
      "source": [
        "# agrupando resultados no df\n",
        "dict_results = {}\n",
        "dict_results[\"Método\"] = [\"LSTM Unidirecional\", \"LSTM Bidirecional\", \"GRU Unidirecional\", \"GRU Bidirecional\"]\n",
        "dict_results[\"Acurácia\"] = [lstm_uni_model_accuracy, lstm_bi_model_accuracy, gru_uni_model_accuracy, gru_bi_model_accuracy]\n",
        "\n",
        "df_results = pd.DataFrame(dict_results)\n",
        "\n",
        "# Adicionar a coluna \"Melhor (S/N)\" com base na maior acurácia\n",
        "df_results[\"Melhor (S/N)\"] = [\"S\" if acc == df_results[\"Acurácia\"].max() else \"N\" for acc in df_results[\"Acurácia\"]]\n",
        "df_results = df_results.sort_values(by=\"Acurácia\", ascending=False)\n",
        "df_results"
      ]
    },
    {
      "cell_type": "code",
      "execution_count": 43,
      "metadata": {
        "id": "hEH31cCVxDnl"
      },
      "outputs": [],
      "source": [
        "df_results.to_csv(\"./data/df_results.csv\")"
      ]
    }
  ],
  "metadata": {
    "accelerator": "GPU",
    "colab": {
      "gpuType": "T4",
      "provenance": []
    },
    "kernelspec": {
      "display_name": "Python 3",
      "name": "python3"
    },
    "language_info": {
      "name": "python"
    }
  },
  "nbformat": 4,
  "nbformat_minor": 0
}
